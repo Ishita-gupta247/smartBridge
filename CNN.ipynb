{
  "nbformat": 4,
  "nbformat_minor": 0,
  "metadata": {
    "colab": {
      "provenance": [],
      "gpuType": "T4"
    },
    "kernelspec": {
      "name": "python3",
      "display_name": "Python 3"
    },
    "language_info": {
      "name": "python"
    },
    "accelerator": "GPU"
  },
  "cells": [
    {
      "cell_type": "code",
      "execution_count": null,
      "metadata": {
        "id": "Ctu6Vsiptflx"
      },
      "outputs": [],
      "source": [
        "#data augmentation\n",
        "from tensorflow.keras.preprocessing.image import ImageDataGenerator"
      ]
    },
    {
      "cell_type": "code",
      "source": [
        "from google.colab import drive\n",
        "drive.mount('/content/drive')"
      ],
      "metadata": {
        "colab": {
          "base_uri": "https://localhost:8080/"
        },
        "id": "EXoKW2hUBosv",
        "outputId": "4080588d-a92a-4e5a-fb7a-0898c8301497"
      },
      "execution_count": null,
      "outputs": [
        {
          "output_type": "stream",
          "name": "stdout",
          "text": [
            "Drive already mounted at /content/drive; to attempt to forcibly remount, call drive.mount(\"/content/drive\", force_remount=True).\n"
          ]
        }
      ]
    },
    {
      "cell_type": "code",
      "source": [
        "train_gen= ImageDataGenerator(rescale=(1./255),horizontal_flip=True,shear_range=0.2)\n",
        "test_gen= ImageDataGenerator(rescale=(1./255))"
      ],
      "metadata": {
        "id": "aStmLRW02GXj"
      },
      "execution_count": null,
      "outputs": []
    },
    {
      "cell_type": "code",
      "source": [
        "train=train_gen.flow_from_directory('/content/drive/MyDrive/Animal_Dataset/dataset/Training',target_size=(120,120),class_mode='categorical',\n",
        "                                    batch_size=8)\n",
        "test=test_gen.flow_from_directory('/content/drive/MyDrive/Animal_Dataset/dataset/Testing',target_size=(120,120),class_mode='categorical',batch_size=8)"
      ],
      "metadata": {
        "colab": {
          "base_uri": "https://localhost:8080/"
        },
        "id": "u73tNU6w3RyK",
        "outputId": "aff392a1-3ae9-466f-8e89-ded873ef5872"
      },
      "execution_count": null,
      "outputs": [
        {
          "output_type": "stream",
          "name": "stdout",
          "text": [
            "Found 1238 images belonging to 4 classes.\n",
            "Found 326 images belonging to 4 classes.\n"
          ]
        }
      ]
    },
    {
      "cell_type": "code",
      "source": [
        "train.class_indices"
      ],
      "metadata": {
        "colab": {
          "base_uri": "https://localhost:8080/"
        },
        "id": "h4yegbEH8-NI",
        "outputId": "c51d8fa6-f9eb-451c-ba62-a704f3dd34b2"
      },
      "execution_count": null,
      "outputs": [
        {
          "output_type": "execute_result",
          "data": {
            "text/plain": [
              "{'bears': 0, 'crows': 1, 'elephants': 2, 'rats': 3}"
            ]
          },
          "metadata": {},
          "execution_count": 15
        }
      ]
    },
    {
      "cell_type": "code",
      "source": [
        "#CNN\n",
        "from tensorflow.keras.layers import Convolution2D, MaxPooling2D, Flatten,Dense\n"
      ],
      "metadata": {
        "id": "zPEUY_Gh5Qrf"
      },
      "execution_count": null,
      "outputs": []
    },
    {
      "cell_type": "code",
      "source": [
        "from tensorflow.keras.models import Sequential"
      ],
      "metadata": {
        "id": "vTNajDPd6puO"
      },
      "execution_count": null,
      "outputs": []
    },
    {
      "cell_type": "code",
      "source": [
        "model=Sequential()\n",
        "#input_dim=taget_size 120,120 and rgb=3\n",
        "#convolution layers==filters=20,kernel_size= dimension of filters stride by\n",
        "#  default(1,1),hardly change it..activation mostly relu,,input\n",
        "#  shape=targetsize color=3 blackwhite=1\n",
        "model.add(Convolution2D(20,(3,3),activation='relu',input_shape=(120,120,3)))\n",
        "model.add(MaxPooling2D(pool_size=(2,2)))\n",
        "model.add(Flatten())\n",
        "#dense is hideen layers\n",
        "model.add(Dense(45,activation='relu'))\n",
        "#output layer=4 for 4 output classes\n",
        "model.add(Dense(4,activation='softmax'))"
      ],
      "metadata": {
        "id": "Ok9JmE9364f6"
      },
      "execution_count": null,
      "outputs": []
    },
    {
      "cell_type": "code",
      "source": [
        "model.compile(optimizer='adam',loss='categorical_crossentropy',metrics=['accuracy'])"
      ],
      "metadata": {
        "id": "8nkmivQK8TlF"
      },
      "execution_count": null,
      "outputs": []
    },
    {
      "cell_type": "code",
      "source": [
        "#batchsize same as b4\n",
        "model.fit(train,batch_size=8,validation_data=test,epochs=10)"
      ],
      "metadata": {
        "colab": {
          "base_uri": "https://localhost:8080/"
        },
        "id": "4O-9f2bC9wiK",
        "outputId": "d8aa6690-85c2-42e6-e6f1-40a56358b087"
      },
      "execution_count": null,
      "outputs": [
        {
          "output_type": "stream",
          "name": "stdout",
          "text": [
            "Epoch 1/10\n",
            "155/155 [==============================] - 481s 3s/step - loss: 1.5605 - accuracy: 0.3288 - val_loss: 1.2362 - val_accuracy: 0.4172\n",
            "Epoch 2/10\n",
            "155/155 [==============================] - 13s 87ms/step - loss: 1.2683 - accuracy: 0.3796 - val_loss: 1.2237 - val_accuracy: 0.2914\n",
            "Epoch 3/10\n",
            "155/155 [==============================] - 13s 86ms/step - loss: 1.1793 - accuracy: 0.4265 - val_loss: 1.1138 - val_accuracy: 0.3712\n",
            "Epoch 4/10\n",
            "155/155 [==============================] - 13s 85ms/step - loss: 1.1414 - accuracy: 0.4200 - val_loss: 1.0698 - val_accuracy: 0.4110\n",
            "Epoch 5/10\n",
            "155/155 [==============================] - 13s 84ms/step - loss: 1.1178 - accuracy: 0.4483 - val_loss: 1.0465 - val_accuracy: 0.3957\n",
            "Epoch 6/10\n",
            "155/155 [==============================] - 13s 82ms/step - loss: 1.0865 - accuracy: 0.4515 - val_loss: 1.0280 - val_accuracy: 0.4632\n",
            "Epoch 7/10\n",
            "155/155 [==============================] - 13s 83ms/step - loss: 1.0124 - accuracy: 0.4766 - val_loss: 1.0040 - val_accuracy: 0.4939\n",
            "Epoch 8/10\n",
            "155/155 [==============================] - 13s 83ms/step - loss: 0.9883 - accuracy: 0.4790 - val_loss: 0.9775 - val_accuracy: 0.4785\n",
            "Epoch 9/10\n",
            "155/155 [==============================] - 13s 83ms/step - loss: 0.9466 - accuracy: 0.4887 - val_loss: 0.8928 - val_accuracy: 0.4693\n",
            "Epoch 10/10\n",
            "155/155 [==============================] - 13s 84ms/step - loss: 0.9075 - accuracy: 0.4903 - val_loss: 0.8836 - val_accuracy: 0.4969\n"
          ]
        },
        {
          "output_type": "execute_result",
          "data": {
            "text/plain": [
              "<keras.callbacks.History at 0x7f07ec195210>"
            ]
          },
          "metadata": {},
          "execution_count": 10
        }
      ]
    },
    {
      "cell_type": "code",
      "source": [
        "model.save('animalWeights.h5')\n",
        "#Testing\n",
        "import numpy as np\n",
        "from tensorflow.keras.preprocessing import image\n",
        "img=image.load_img('/content/elephant.jpg',target_size=(120,120))"
      ],
      "metadata": {
        "id": "jY0f51whAAY1"
      },
      "execution_count": null,
      "outputs": []
    },
    {
      "cell_type": "code",
      "source": [
        "img"
      ],
      "metadata": {
        "colab": {
          "base_uri": "https://localhost:8080/",
          "height": 137
        },
        "id": "e3DPfkAnBkQ0",
        "outputId": "9c6d3a7f-c637-4c16-bbcb-1278f114005a"
      },
      "execution_count": null,
      "outputs": [
        {
          "output_type": "execute_result",
          "data": {
            "text/plain": [
              "<PIL.Image.Image image mode=RGB size=120x120 at 0x7F07D00D2B00>"
            ],
            "image/png": "[encoded data removed]"
          },
          "metadata": {},
          "execution_count": 23
        }
      ]
    },
    {
      "cell_type": "code",
      "source": [
        "img=image.img_to_array(img)\n",
        "img=np.expand_dims(img,axis=0)\n",
        "np.argmax(model.predict(img))"
      ],
      "metadata": {
        "colab": {
          "base_uri": "https://localhost:8080/"
        },
        "id": "8Byzb9SzA0CL",
        "outputId": "6c24f76d-4fa3-4f14-80cb-e7450405fd36"
      },
      "execution_count": null,
      "outputs": [
        {
          "output_type": "stream",
          "name": "stdout",
          "text": [
            "1/1 [==============================] - 0s 119ms/step\n"
          ]
        },
        {
          "output_type": "execute_result",
          "data": {
            "text/plain": [
              "2"
            ]
          },
          "metadata": {},
          "execution_count": 24
        }
      ]
    },
    {
      "cell_type": "code",
      "source": [
        "#model tuning(with dropout, batch normalization and early stopping)\n",
        "from tensorflow.keras.layers import BatchNormalization, Dropout"
      ],
      "metadata": {
        "id": "b8q3MmhwCVse"
      },
      "execution_count": null,
      "outputs": []
    },
    {
      "cell_type": "code",
      "source": [
        "from tensorflow.keras.callbacks import EarlyStopping"
      ],
      "metadata": {
        "id": "qWEMn_4aClrA"
      },
      "execution_count": null,
      "outputs": []
    },
    {
      "cell_type": "code",
      "source": [
        "model=Sequential()\n",
        "#input_dim=taget_size 120,120 and rgb=3\n",
        "#convolution layers==filters=20,kernel_size= dimension of filters stride by\n",
        "#  default(1,1),hardly change it..activation mostly relu,,input\n",
        "#  shape=targetsize color=3 blackwhite=1\n",
        "model.add(Convolution2D(20,(3,3),activation='relu',input_shape=(120,120,3)))\n",
        "model.add(BatchNormalization())\n",
        "model.add(MaxPooling2D(pool_size=(2,2)))\n",
        "model.add(Dropout(0.2))\n",
        "model.add(Convolution2D(20,(3,3),activation='relu',input_shape=(120,120,3)))\n",
        "model.add(BatchNormalization())\n",
        "model.add(MaxPooling2D(pool_size=(2,2)))\n",
        "model.add(Dropout(0.2))\n",
        "model.add(Convolution2D(36,(3,3),activation='relu',input_shape=(120,120,3)))\n",
        "model.add(BatchNormalization())\n",
        "model.add(MaxPooling2D(pool_size=(2,2)))\n",
        "model.add(Dropout(0.2))\n",
        "model.add(Flatten())\n",
        "#dense is hideen layers\n",
        "model.add(Dense(45,activation='relu'))\n",
        "model.add(BatchNormalization())\n",
        "model.add(Dropout(0.2))\n",
        "#output layer=4 for 4 output classes\n",
        "model.add(Dense(4,activation='softmax'))"
      ],
      "metadata": {
        "id": "-8-HZGK-GjVS"
      },
      "execution_count": null,
      "outputs": []
    },
    {
      "cell_type": "code",
      "source": [
        "model.summary()\n",
        "model.config()"
      ],
      "metadata": {
        "id": "ZJwle39OH9Fs"
      },
      "execution_count": null,
      "outputs": []
    },
    {
      "cell_type": "code",
      "source": [
        "early_stop=EarlyStopping(monitor='accuracy',patience=8)\n",
        "model.fit(train,batch_size=8,validation_data=test,epoch=50,callback=early_stop)"
      ],
      "metadata": {
        "id": "-Su49S49Himp"
      },
      "execution_count": null,
      "outputs": []
    }
  ]
}