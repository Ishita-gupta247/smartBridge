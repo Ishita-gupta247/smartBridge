{
  "nbformat": 4,
  "nbformat_minor": 0,
  "metadata": {
    "colab": {
      "provenance": [],
      "gpuType": "T4"
    },
    "kernelspec": {
      "name": "python3",
      "display_name": "Python 3"
    },
    "language_info": {
      "name": "python"
    },
    "accelerator": "GPU"
  },
  "cells": [
    {
      "cell_type": "code",
      "execution_count": null,
      "metadata": {
        "id": "LSUw5jfFlLHI"
      },
      "outputs": [],
      "source": [
        "from tensorflow.keras.layers import Dense,Flatten,Input\n",
        "from tensorflow.keras.models import Model\n",
        "from tensorflow.keras.preprocessing import image\n",
        "from tensorflow.keras.preprocessing.image import ImageDataGenerator, load_img\n",
        "import numpy as np"
      ]
    },
    {
      "cell_type": "code",
      "source": [
        "from google.colab import drive\n",
        "drive.mount('/content/drive')"
      ],
      "metadata": {
        "colab": {
          "base_uri": "https://localhost:8080/"
        },
        "id": "2Yw2NLvHpNr8",
        "outputId": "56701399-47a7-4877-f7e4-4a1d01957bc6"
      },
      "execution_count": null,
      "outputs": [
        {
          "output_type": "stream",
          "name": "stdout",
          "text": [
            "Drive already mounted at /content/drive; to attempt to forcibly remount, call drive.mount(\"/content/drive\", force_remount=True).\n"
          ]
        }
      ]
    },
    {
      "cell_type": "code",
      "source": [
        "train_path=\"/content/drive/MyDrive/Animal_Dataset/dataset/Training\"\n",
        "test_path=\"/content/drive/MyDrive/Animal_Dataset/dataset/Testing\""
      ],
      "metadata": {
        "id": "1vF_jH5_qP1F"
      },
      "execution_count": null,
      "outputs": []
    },
    {
      "cell_type": "code",
      "source": [
        "train_gen = ImageDataGenerator(rescale=(1./255),horizontal_flip=True,shear_range=0.2,zoom_range=0.2)\n",
        "test_gen = ImageDataGenerator(rescale=(1./255))  #--> (0 to 255) convert to (0 to 1)"
      ],
      "metadata": {
        "id": "39e7sRR5pKiQ"
      },
      "execution_count": null,
      "outputs": []
    },
    {
      "cell_type": "code",
      "source": [
        "train = train_gen.flow_from_directory(train_path,\n",
        "                                      target_size=(224, 224),\n",
        "                                      class_mode='categorical',\n",
        "                                      batch_size=22)\n",
        "test = test_gen.flow_from_directory(test_path,\n",
        "                                      target_size=(224, 224),\n",
        "                                      class_mode='categorical',\n",
        "                                      batch_size=22)"
      ],
      "metadata": {
        "colab": {
          "base_uri": "https://localhost:8080/"
        },
        "id": "G8xCMcA7qgx-",
        "outputId": "dd0a6aa6-a81c-4040-fca1-e79eac3f068b"
      },
      "execution_count": null,
      "outputs": [
        {
          "output_type": "stream",
          "name": "stdout",
          "text": [
            "Found 1238 images belonging to 4 classes.\n",
            "Found 326 images belonging to 4 classes.\n"
          ]
        }
      ]
    },
    {
      "cell_type": "code",
      "source": [
        "from tensorflow.keras.applications.vgg16 import VGG16, preprocess_input\n",
        "#preprocess_input use to process the input to tain it according to pretrained model\n",
        "\n"
      ],
      "metadata": {
        "id": "VZ224jWEsh6M"
      },
      "execution_count": null,
      "outputs": []
    },
    {
      "cell_type": "code",
      "source": [
        "#add preprocessing layer to the front of vgg\n",
        "vgg=VGG16(include_top=False,weights='imagenet',input_shape=(224,224,3))\n"
      ],
      "metadata": {
        "id": "V1TgVv5-tb3W"
      },
      "execution_count": null,
      "outputs": []
    },
    {
      "cell_type": "code",
      "source": [
        "#Train model with existing weights-same weight and diff input\n",
        "for layer in vgg.layers:\n",
        "       print(layer)"
      ],
      "metadata": {
        "colab": {
          "base_uri": "https://localhost:8080/"
        },
        "id": "CL776NWDvGA6",
        "outputId": "e9e7eb64-b489-49d7-ec97-733c2b6f58fa"
      },
      "execution_count": null,
      "outputs": [
        {
          "output_type": "stream",
          "name": "stdout",
          "text": [
            "<keras.engine.input_layer.InputLayer object at 0x7f64524320b0>\n",
            "<keras.layers.convolutional.conv2d.Conv2D object at 0x7f6452433430>\n",
            "<keras.layers.convolutional.conv2d.Conv2D object at 0x7f6452618b50>\n",
            "<keras.layers.pooling.max_pooling2d.MaxPooling2D object at 0x7f645249cfa0>\n",
            "<keras.layers.convolutional.conv2d.Conv2D object at 0x7f645249d5a0>\n",
            "<keras.layers.convolutional.conv2d.Conv2D object at 0x7f645249c2b0>\n",
            "<keras.layers.pooling.max_pooling2d.MaxPooling2D object at 0x7f64524338b0>\n",
            "<keras.layers.convolutional.conv2d.Conv2D object at 0x7f6452432e00>\n",
            "<keras.layers.convolutional.conv2d.Conv2D object at 0x7f64524320e0>\n",
            "<keras.layers.convolutional.conv2d.Conv2D object at 0x7f645247ae60>\n",
            "<keras.layers.pooling.max_pooling2d.MaxPooling2D object at 0x7f645247aaa0>\n",
            "<keras.layers.convolutional.conv2d.Conv2D object at 0x7f645247ae30>\n",
            "<keras.layers.convolutional.conv2d.Conv2D object at 0x7f645247a140>\n",
            "<keras.layers.convolutional.conv2d.Conv2D object at 0x7f6452478430>\n",
            "<keras.layers.pooling.max_pooling2d.MaxPooling2D object at 0x7f64523a9540>\n",
            "<keras.layers.convolutional.conv2d.Conv2D object at 0x7f6452479b70>\n",
            "<keras.layers.convolutional.conv2d.Conv2D object at 0x7f64523a8af0>\n",
            "<keras.layers.convolutional.conv2d.Conv2D object at 0x7f64523ab0d0>\n",
            "<keras.layers.pooling.max_pooling2d.MaxPooling2D object at 0x7f64523aa1a0>\n"
          ]
        }
      ]
    },
    {
      "cell_type": "code",
      "source": [
        "for layer in vgg.layers:\n",
        "   layer=False"
      ],
      "metadata": {
        "id": "64fAqcwQvxpN"
      },
      "execution_count": null,
      "outputs": []
    },
    {
      "cell_type": "code",
      "source": [
        "x=Flatten()(vgg.output)"
      ],
      "metadata": {
        "id": "Ls8E9tzyyVre"
      },
      "execution_count": null,
      "outputs": []
    },
    {
      "cell_type": "code",
      "source": [
        "prediction=Dense(4,activation='softmax')(x)"
      ],
      "metadata": {
        "id": "sOFEAVc5ymRy"
      },
      "execution_count": null,
      "outputs": []
    },
    {
      "cell_type": "code",
      "source": [
        "model=Model(inputs=vgg.input,outputs=prediction)"
      ],
      "metadata": {
        "id": "jegt4q2xy1_R"
      },
      "execution_count": null,
      "outputs": []
    },
    {
      "cell_type": "code",
      "source": [
        "model.summary()"
      ],
      "metadata": {
        "colab": {
          "base_uri": "https://localhost:8080/"
        },
        "id": "gPVkX9QRzL57",
        "outputId": "f0a4f63e-0187-4a8f-9ee4-243048183d9b"
      },
      "execution_count": null,
      "outputs": [
        {
          "output_type": "stream",
          "name": "stdout",
          "text": [
            "Model: \"model_2\"\n",
            "_________________________________________________________________\n",
            " Layer (type)                Output Shape              Param #   \n",
            "=================================================================\n",
            " input_3 (InputLayer)        [(None, 224, 224, 3)]     0         \n",
            "                                                                 \n",
            " block1_conv1 (Conv2D)       (None, 224, 224, 64)      1792      \n",
            "                                                                 \n",
            " block1_conv2 (Conv2D)       (None, 224, 224, 64)      36928     \n",
            "                                                                 \n",
            " block1_pool (MaxPooling2D)  (None, 112, 112, 64)      0         \n",
            "                                                                 \n",
            " block2_conv1 (Conv2D)       (None, 112, 112, 128)     73856     \n",
            "                                                                 \n",
            " block2_conv2 (Conv2D)       (None, 112, 112, 128)     147584    \n",
            "                                                                 \n",
            " block2_pool (MaxPooling2D)  (None, 56, 56, 128)       0         \n",
            "                                                                 \n",
            " block3_conv1 (Conv2D)       (None, 56, 56, 256)       295168    \n",
            "                                                                 \n",
            " block3_conv2 (Conv2D)       (None, 56, 56, 256)       590080    \n",
            "                                                                 \n",
            " block3_conv3 (Conv2D)       (None, 56, 56, 256)       590080    \n",
            "                                                                 \n",
            " block3_pool (MaxPooling2D)  (None, 28, 28, 256)       0         \n",
            "                                                                 \n",
            " block4_conv1 (Conv2D)       (None, 28, 28, 512)       1180160   \n",
            "                                                                 \n",
            " block4_conv2 (Conv2D)       (None, 28, 28, 512)       2359808   \n",
            "                                                                 \n",
            " block4_conv3 (Conv2D)       (None, 28, 28, 512)       2359808   \n",
            "                                                                 \n",
            " block4_pool (MaxPooling2D)  (None, 14, 14, 512)       0         \n",
            "                                                                 \n",
            " block5_conv1 (Conv2D)       (None, 14, 14, 512)       2359808   \n",
            "                                                                 \n",
            " block5_conv2 (Conv2D)       (None, 14, 14, 512)       2359808   \n",
            "                                                                 \n",
            " block5_conv3 (Conv2D)       (None, 14, 14, 512)       2359808   \n",
            "                                                                 \n",
            " block5_pool (MaxPooling2D)  (None, 7, 7, 512)         0         \n",
            "                                                                 \n",
            " flatten_4 (Flatten)         (None, 25088)             0         \n",
            "                                                                 \n",
            " dense_2 (Dense)             (None, 4)                 100356    \n",
            "                                                                 \n",
            "=================================================================\n",
            "Total params: 14,815,044\n",
            "Trainable params: 14,815,044\n",
            "Non-trainable params: 0\n",
            "_________________________________________________________________\n"
          ]
        }
      ]
    },
    {
      "cell_type": "code",
      "source": [
        "model.compile(loss='categorical_crossentropy',optimizer='adam',metrics=['accuracy'])"
      ],
      "metadata": {
        "id": "A0wXizRfzOwV"
      },
      "execution_count": null,
      "outputs": []
    },
    {
      "cell_type": "code",
      "source": [
        "model.fit_generator(train,validation_data=test,epochs=10,steps_per_epoch=len(train),\n",
        "                    validation_steps=len(test))"
      ],
      "metadata": {
        "colab": {
          "base_uri": "https://localhost:8080/"
        },
        "id": "eM8QAl0hze3t",
        "outputId": "53810fdb-a08b-4d9b-9202-e9f8d1f50f70"
      },
      "execution_count": null,
      "outputs": [
        {
          "output_type": "stream",
          "name": "stderr",
          "text": [
            "<ipython-input-35-240d737b1fe6>:1: UserWarning: `Model.fit_generator` is deprecated and will be removed in a future version. Please use `Model.fit`, which supports generators.\n",
            "  model.fit_generator(train,validation_data=test,epochs=10,steps_per_epoch=len(train),\n"
          ]
        },
        {
          "output_type": "stream",
          "name": "stdout",
          "text": [
            "Epoch 1/10\n",
            "57/57 [==============================] - 471s 8s/step - loss: 2.4016 - accuracy: 0.2884 - val_loss: 1.3843 - val_accuracy: 0.2914\n",
            "Epoch 2/10\n",
            "57/57 [==============================] - 28s 484ms/step - loss: 1.3673 - accuracy: 0.3045 - val_loss: 1.3820 - val_accuracy: 0.2914\n",
            "Epoch 3/10\n",
            "57/57 [==============================] - 27s 474ms/step - loss: 1.3249 - accuracy: 0.3522 - val_loss: 1.2831 - val_accuracy: 0.3497\n",
            "Epoch 4/10\n",
            "57/57 [==============================] - 27s 474ms/step - loss: 1.2885 - accuracy: 0.4006 - val_loss: 1.1508 - val_accuracy: 0.4202\n",
            "Epoch 5/10\n",
            "57/57 [==============================] - 27s 475ms/step - loss: 1.2247 - accuracy: 0.4338 - val_loss: 1.1712 - val_accuracy: 0.4663\n",
            "Epoch 6/10\n",
            "57/57 [==============================] - 27s 477ms/step - loss: 1.2020 - accuracy: 0.4402 - val_loss: 1.2919 - val_accuracy: 0.3896\n",
            "Epoch 7/10\n",
            "57/57 [==============================] - 28s 482ms/step - loss: 1.1796 - accuracy: 0.4507 - val_loss: 1.0670 - val_accuracy: 0.5031\n",
            "Epoch 8/10\n",
            "57/57 [==============================] - 28s 483ms/step - loss: 1.1317 - accuracy: 0.4911 - val_loss: 1.2636 - val_accuracy: 0.4233\n",
            "Epoch 9/10\n",
            "57/57 [==============================] - 28s 484ms/step - loss: 1.0975 - accuracy: 0.5129 - val_loss: 1.0156 - val_accuracy: 0.5552\n",
            "Epoch 10/10\n",
            "57/57 [==============================] - 28s 481ms/step - loss: 1.0420 - accuracy: 0.5388 - val_loss: 0.8790 - val_accuracy: 0.6043\n"
          ]
        },
        {
          "output_type": "execute_result",
          "data": {
            "text/plain": [
              "<keras.callbacks.History at 0x7f6569e23010>"
            ]
          },
          "metadata": {},
          "execution_count": 35
        }
      ]
    },
    {
      "cell_type": "code",
      "source": [
        "from tensorflow.keras.applications.resnet50 import ResNet50"
      ],
      "metadata": {
        "id": "z-B-4rniz9Rm"
      },
      "execution_count": null,
      "outputs": []
    },
    {
      "cell_type": "code",
      "source": [
        "resnet=ResNet50(include_top=False,input_shape=(224,224,3))"
      ],
      "metadata": {
        "id": "VMqxnB1p3ruv"
      },
      "execution_count": null,
      "outputs": []
    },
    {
      "cell_type": "code",
      "source": [
        "for layer in resnet.layers:\n",
        "     layer.trainable=False"
      ],
      "metadata": {
        "id": "mZ7d7kkW4StP"
      },
      "execution_count": null,
      "outputs": []
    },
    {
      "cell_type": "code",
      "source": [
        "#flatten the output\n",
        "x=Flatten()(resnet.output)"
      ],
      "metadata": {
        "id": "DcZ5DLcs4Yrb"
      },
      "execution_count": null,
      "outputs": []
    },
    {
      "cell_type": "code",
      "source": [
        "out=Dense(4,activation='softmax')(x)"
      ],
      "metadata": {
        "id": "EUoCxPXv4vaO"
      },
      "execution_count": null,
      "outputs": []
    },
    {
      "cell_type": "code",
      "source": [
        "res_model=Model(inputs=resnet.input,outputs=out)"
      ],
      "metadata": {
        "id": "-LzXO3I05TiV"
      },
      "execution_count": null,
      "outputs": []
    },
    {
      "cell_type": "code",
      "source": [
        "model.summary()"
      ],
      "metadata": {
        "colab": {
          "base_uri": "https://localhost:8080/"
        },
        "id": "nprW8NGQ5yZd",
        "outputId": "d46d9563-5e13-4604-d73d-247c2fa76867"
      },
      "execution_count": null,
      "outputs": [
        {
          "output_type": "stream",
          "name": "stdout",
          "text": [
            "Model: \"model_2\"\n",
            "_________________________________________________________________\n",
            " Layer (type)                Output Shape              Param #   \n",
            "=================================================================\n",
            " input_3 (InputLayer)        [(None, 224, 224, 3)]     0         \n",
            "                                                                 \n",
            " block1_conv1 (Conv2D)       (None, 224, 224, 64)      1792      \n",
            "                                                                 \n",
            " block1_conv2 (Conv2D)       (None, 224, 224, 64)      36928     \n",
            "                                                                 \n",
            " block1_pool (MaxPooling2D)  (None, 112, 112, 64)      0         \n",
            "                                                                 \n",
            " block2_conv1 (Conv2D)       (None, 112, 112, 128)     73856     \n",
            "                                                                 \n",
            " block2_conv2 (Conv2D)       (None, 112, 112, 128)     147584    \n",
            "                                                                 \n",
            " block2_pool (MaxPooling2D)  (None, 56, 56, 128)       0         \n",
            "                                                                 \n",
            " block3_conv1 (Conv2D)       (None, 56, 56, 256)       295168    \n",
            "                                                                 \n",
            " block3_conv2 (Conv2D)       (None, 56, 56, 256)       590080    \n",
            "                                                                 \n",
            " block3_conv3 (Conv2D)       (None, 56, 56, 256)       590080    \n",
            "                                                                 \n",
            " block3_pool (MaxPooling2D)  (None, 28, 28, 256)       0         \n",
            "                                                                 \n",
            " block4_conv1 (Conv2D)       (None, 28, 28, 512)       1180160   \n",
            "                                                                 \n",
            " block4_conv2 (Conv2D)       (None, 28, 28, 512)       2359808   \n",
            "                                                                 \n",
            " block4_conv3 (Conv2D)       (None, 28, 28, 512)       2359808   \n",
            "                                                                 \n",
            " block4_pool (MaxPooling2D)  (None, 14, 14, 512)       0         \n",
            "                                                                 \n",
            " block5_conv1 (Conv2D)       (None, 14, 14, 512)       2359808   \n",
            "                                                                 \n",
            " block5_conv2 (Conv2D)       (None, 14, 14, 512)       2359808   \n",
            "                                                                 \n",
            " block5_conv3 (Conv2D)       (None, 14, 14, 512)       2359808   \n",
            "                                                                 \n",
            " block5_pool (MaxPooling2D)  (None, 7, 7, 512)         0         \n",
            "                                                                 \n",
            " flatten_4 (Flatten)         (None, 25088)             0         \n",
            "                                                                 \n",
            " dense_2 (Dense)             (None, 4)                 100356    \n",
            "                                                                 \n",
            "=================================================================\n",
            "Total params: 14,815,044\n",
            "Trainable params: 14,815,044\n",
            "Non-trainable params: 0\n",
            "_________________________________________________________________\n"
          ]
        }
      ]
    },
    {
      "cell_type": "code",
      "source": [
        "res_model.compile(loss='categorical_crossentropy',optimizer='adam',metrics=['accuracy'])"
      ],
      "metadata": {
        "id": "pe0c0Meu5_G8"
      },
      "execution_count": null,
      "outputs": []
    },
    {
      "cell_type": "code",
      "source": [
        "# res_model.fit_generator(train,epochs=5,validation_data=test,steps_per_epoch=len(train),validation_steps=len(test))\n",
        "res_model.fit_generator(train,validation_data=test,epochs=10,steps_per_epoch=len(train),validation_steps=len(test))"
      ],
      "metadata": {
        "colab": {
          "base_uri": "https://localhost:8080/"
        },
        "id": "znRdwHMR6KIk",
        "outputId": "e637ed4f-420a-4fd1-c8e5-f58556bb3c75"
      },
      "execution_count": null,
      "outputs": [
        {
          "output_type": "stream",
          "name": "stderr",
          "text": [
            "<ipython-input-57-16908bc4b707>:2: UserWarning: `Model.fit_generator` is deprecated and will be removed in a future version. Please use `Model.fit`, which supports generators.\n",
            "  res_model.fit_generator(train,validation_data=test,epochs=10,steps_per_epoch=len(train),validation_steps=len(test))\n"
          ]
        },
        {
          "output_type": "stream",
          "name": "stdout",
          "text": [
            "Epoch 1/10\n",
            "57/57 [==============================] - 31s 459ms/step - loss: 4.5135 - accuracy: 0.3554 - val_loss: 1.8095 - val_accuracy: 0.4816\n",
            "Epoch 2/10\n",
            "57/57 [==============================] - 22s 388ms/step - loss: 1.4486 - accuracy: 0.4806 - val_loss: 1.5882 - val_accuracy: 0.4233\n",
            "Epoch 3/10\n",
            "57/57 [==============================] - 23s 410ms/step - loss: 1.3399 - accuracy: 0.4952 - val_loss: 1.1781 - val_accuracy: 0.5429\n",
            "Epoch 4/10\n",
            "57/57 [==============================] - 22s 391ms/step - loss: 1.5360 - accuracy: 0.5105 - val_loss: 1.2793 - val_accuracy: 0.5153\n",
            "Epoch 5/10\n",
            "57/57 [==============================] - 23s 406ms/step - loss: 1.1671 - accuracy: 0.5493 - val_loss: 1.0174 - val_accuracy: 0.5736\n",
            "Epoch 6/10\n",
            "57/57 [==============================] - 24s 426ms/step - loss: 1.1920 - accuracy: 0.5687 - val_loss: 0.9638 - val_accuracy: 0.6135\n",
            "Epoch 7/10\n",
            "57/57 [==============================] - 23s 402ms/step - loss: 0.9577 - accuracy: 0.6276 - val_loss: 0.6175 - val_accuracy: 0.7577\n",
            "Epoch 8/10\n",
            "57/57 [==============================] - 23s 400ms/step - loss: 0.9974 - accuracy: 0.6325 - val_loss: 1.3641 - val_accuracy: 0.6135\n",
            "Epoch 9/10\n",
            "57/57 [==============================] - 23s 404ms/step - loss: 1.1809 - accuracy: 0.5759 - val_loss: 1.4465 - val_accuracy: 0.5399\n",
            "Epoch 10/10\n",
            "57/57 [==============================] - 22s 389ms/step - loss: 1.3259 - accuracy: 0.5630 - val_loss: 1.6755 - val_accuracy: 0.6135\n"
          ]
        },
        {
          "output_type": "execute_result",
          "data": {
            "text/plain": [
              "<keras.callbacks.History at 0x7f6451bd8d30>"
            ]
          },
          "metadata": {},
          "execution_count": 57
        }
      ]
    }
  ]
}